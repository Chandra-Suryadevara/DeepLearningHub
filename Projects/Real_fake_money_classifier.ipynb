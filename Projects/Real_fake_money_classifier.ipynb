{
 "cells": [
  {
   "cell_type": "code",
   "execution_count": 1,
   "id": "c7e61022-66e9-4a04-8955-e37b52ab3fdb",
   "metadata": {},
   "outputs": [],
   "source": [
    "import numpy as np\n",
    "from numpy import genfromtxt"
   ]
  },
  {
   "cell_type": "markdown",
   "id": "b2acb239-2dfe-46f7-b9ad-545e651c56c5",
   "metadata": {},
   "source": [
    "### Step1:Gather Data "
   ]
  },
  {
   "cell_type": "code",
   "execution_count": 2,
   "id": "74f58077-8832-4183-af8e-07dadf1da78d",
   "metadata": {},
   "outputs": [],
   "source": [
    "data = genfromtxt('Data/bank_note_data.txt',delimiter=',')"
   ]
  },
  {
   "cell_type": "code",
   "execution_count": 3,
   "id": "5446be1a-d425-44e8-bfdf-a7c0e725320f",
   "metadata": {},
   "outputs": [
    {
     "data": {
      "text/plain": [
       "array([[  3.6216 ,   8.6661 ,  -2.8073 ,  -0.44699,   0.     ],\n",
       "       [  4.5459 ,   8.1674 ,  -2.4586 ,  -1.4621 ,   0.     ],\n",
       "       [  3.866  ,  -2.6383 ,   1.9242 ,   0.10645,   0.     ],\n",
       "       ...,\n",
       "       [ -3.7503 , -13.4586 ,  17.5932 ,  -2.7771 ,   1.     ],\n",
       "       [ -3.5637 ,  -8.3827 ,  12.393  ,  -1.2823 ,   1.     ],\n",
       "       [ -2.5419 ,  -0.65804,   2.6842 ,   1.1952 ,   1.     ]])"
      ]
     },
     "execution_count": 3,
     "metadata": {},
     "output_type": "execute_result"
    }
   ],
   "source": [
    "data"
   ]
  },
  {
   "cell_type": "markdown",
   "id": "00976c18-8a1a-4ac3-8e94-39b1e31244a6",
   "metadata": {},
   "source": [
    "Here is this array is the last column identifies if the note is official(1) or fake (0)"
   ]
  },
  {
   "cell_type": "markdown",
   "id": "71e9fae0-5230-483e-ba60-7ee952c8f357",
   "metadata": {},
   "source": [
    "### Step 2: Separate label data and training data "
   ]
  },
  {
   "cell_type": "code",
   "execution_count": 4,
   "id": "28271625-b8ee-43c7-9be6-3b6a5261b568",
   "metadata": {},
   "outputs": [],
   "source": [
    "labels =data[:,4]"
   ]
  },
  {
   "cell_type": "code",
   "execution_count": 5,
   "id": "cb5cdf54-c516-40fd-8d8f-cf2e1324f341",
   "metadata": {},
   "outputs": [
    {
     "data": {
      "text/plain": [
       "array([0., 0., 0., ..., 1., 1., 1.])"
      ]
     },
     "execution_count": 5,
     "metadata": {},
     "output_type": "execute_result"
    }
   ],
   "source": [
    "labels"
   ]
  },
  {
   "cell_type": "code",
   "execution_count": 6,
   "id": "8053d0c4-212e-4467-92de-2a9de796b95f",
   "metadata": {},
   "outputs": [],
   "source": [
    "features = data[:,0:4]"
   ]
  },
  {
   "cell_type": "code",
   "execution_count": 7,
   "id": "1d15f304-543e-43bd-bc08-d48063af5274",
   "metadata": {},
   "outputs": [
    {
     "data": {
      "text/plain": [
       "array([[  3.6216 ,   8.6661 ,  -2.8073 ,  -0.44699],\n",
       "       [  4.5459 ,   8.1674 ,  -2.4586 ,  -1.4621 ],\n",
       "       [  3.866  ,  -2.6383 ,   1.9242 ,   0.10645],\n",
       "       ...,\n",
       "       [ -3.7503 , -13.4586 ,  17.5932 ,  -2.7771 ],\n",
       "       [ -3.5637 ,  -8.3827 ,  12.393  ,  -1.2823 ],\n",
       "       [ -2.5419 ,  -0.65804,   2.6842 ,   1.1952 ]])"
      ]
     },
     "execution_count": 7,
     "metadata": {},
     "output_type": "execute_result"
    }
   ],
   "source": [
    "features"
   ]
  },
  {
   "cell_type": "markdown",
   "id": "13ca3565-9180-4108-b544-4732688e5679",
   "metadata": {},
   "source": [
    "### Step 3: Split the data for test and train set"
   ]
  },
  {
   "cell_type": "code",
   "execution_count": 8,
   "id": "8a326a46-4592-4397-b44f-9fd4eda68852",
   "metadata": {},
   "outputs": [],
   "source": [
    "X =features\n",
    "y= labels"
   ]
  },
  {
   "cell_type": "code",
   "execution_count": 9,
   "id": "6662a388-c581-48fd-9fd8-248a76e7844a",
   "metadata": {},
   "outputs": [],
   "source": [
    "from sklearn.model_selection import train_test_split"
   ]
  },
  {
   "cell_type": "code",
   "execution_count": 10,
   "id": "4c2f0e49-7b2c-4f1b-b6cd-a2821309057a",
   "metadata": {},
   "outputs": [],
   "source": [
    "X_train, X_test, y_train,y_test=train_test_split(X,y,test_size=0.33,random_state=42)"
   ]
  },
  {
   "cell_type": "code",
   "execution_count": 11,
   "id": "6178c275-3f26-4bba-82b7-f27b63aa49a0",
   "metadata": {},
   "outputs": [
    {
     "data": {
      "text/plain": [
       "array([[-0.8734  , -0.033118, -0.20165 ,  0.55774 ],\n",
       "       [ 2.0177  ,  1.7982  , -2.9581  ,  0.2099  ],\n",
       "       [-0.36038 ,  4.1158  ,  3.1143  , -0.37199 ],\n",
       "       ...,\n",
       "       [-7.0364  ,  9.2931  ,  0.16594 , -4.5396  ],\n",
       "       [-3.4605  ,  2.6901  ,  0.16165 , -1.0224  ],\n",
       "       [-3.3582  , -7.2404  , 11.4419  , -0.57113 ]])"
      ]
     },
     "execution_count": 11,
     "metadata": {},
     "output_type": "execute_result"
    }
   ],
   "source": [
    "X_train"
   ]
  },
  {
   "cell_type": "code",
   "execution_count": 12,
   "id": "78e4306a-6ad2-4f95-a682-998d466a0b76",
   "metadata": {},
   "outputs": [
    {
     "data": {
      "text/plain": [
       "919"
      ]
     },
     "execution_count": 12,
     "metadata": {},
     "output_type": "execute_result"
    }
   ],
   "source": [
    "len(X_train)"
   ]
  },
  {
   "cell_type": "code",
   "execution_count": 13,
   "id": "d0a2b102-4a31-46dd-9d49-f09fbca703ff",
   "metadata": {},
   "outputs": [
    {
     "data": {
      "text/plain": [
       "17.1116"
      ]
     },
     "execution_count": 13,
     "metadata": {},
     "output_type": "execute_result"
    }
   ],
   "source": [
    "X_test.max()"
   ]
  },
  {
   "cell_type": "markdown",
   "id": "1ff77d22-b309-4055-a061-daf0b8385d2a",
   "metadata": {},
   "source": [
    "### Step 4: Make a preprocessing step so that neurons can easily identify patterns in the data "
   ]
  },
  {
   "cell_type": "code",
   "execution_count": 14,
   "id": "707f6e6a-100e-4884-8f7b-a8baaaa74cee",
   "metadata": {},
   "outputs": [],
   "source": [
    "from sklearn.preprocessing import MinMaxScaler"
   ]
  },
  {
   "cell_type": "code",
   "execution_count": 15,
   "id": "3ea42317-346e-4a94-9d51-7cc53c969d92",
   "metadata": {},
   "outputs": [],
   "source": [
    "scaler_object = MinMaxScaler()"
   ]
  },
  {
   "cell_type": "markdown",
   "id": "0237cbb7-e372-4196-ad5c-57f62618e15e",
   "metadata": {},
   "source": [
    "Here the fit will only let it know what is min max of data \n",
    "\n",
    "\n",
    "* Also we cannot fit X_test cause that causes data leakage will cause un determined behaviour"
   ]
  },
  {
   "cell_type": "code",
   "execution_count": 16,
   "id": "bd111d65-e2a7-403e-a4ea-c80c852a93c6",
   "metadata": {},
   "outputs": [
    {
     "data": {
      "text/html": [
       "<style>#sk-container-id-1 {\n",
       "  /* Definition of color scheme common for light and dark mode */\n",
       "  --sklearn-color-text: black;\n",
       "  --sklearn-color-line: gray;\n",
       "  /* Definition of color scheme for unfitted estimators */\n",
       "  --sklearn-color-unfitted-level-0: #fff5e6;\n",
       "  --sklearn-color-unfitted-level-1: #f6e4d2;\n",
       "  --sklearn-color-unfitted-level-2: #ffe0b3;\n",
       "  --sklearn-color-unfitted-level-3: chocolate;\n",
       "  /* Definition of color scheme for fitted estimators */\n",
       "  --sklearn-color-fitted-level-0: #f0f8ff;\n",
       "  --sklearn-color-fitted-level-1: #d4ebff;\n",
       "  --sklearn-color-fitted-level-2: #b3dbfd;\n",
       "  --sklearn-color-fitted-level-3: cornflowerblue;\n",
       "\n",
       "  /* Specific color for light theme */\n",
       "  --sklearn-color-text-on-default-background: var(--sg-text-color, var(--theme-code-foreground, var(--jp-content-font-color1, black)));\n",
       "  --sklearn-color-background: var(--sg-background-color, var(--theme-background, var(--jp-layout-color0, white)));\n",
       "  --sklearn-color-border-box: var(--sg-text-color, var(--theme-code-foreground, var(--jp-content-font-color1, black)));\n",
       "  --sklearn-color-icon: #696969;\n",
       "\n",
       "  @media (prefers-color-scheme: dark) {\n",
       "    /* Redefinition of color scheme for dark theme */\n",
       "    --sklearn-color-text-on-default-background: var(--sg-text-color, var(--theme-code-foreground, var(--jp-content-font-color1, white)));\n",
       "    --sklearn-color-background: var(--sg-background-color, var(--theme-background, var(--jp-layout-color0, #111)));\n",
       "    --sklearn-color-border-box: var(--sg-text-color, var(--theme-code-foreground, var(--jp-content-font-color1, white)));\n",
       "    --sklearn-color-icon: #878787;\n",
       "  }\n",
       "}\n",
       "\n",
       "#sk-container-id-1 {\n",
       "  color: var(--sklearn-color-text);\n",
       "}\n",
       "\n",
       "#sk-container-id-1 pre {\n",
       "  padding: 0;\n",
       "}\n",
       "\n",
       "#sk-container-id-1 input.sk-hidden--visually {\n",
       "  border: 0;\n",
       "  clip: rect(1px 1px 1px 1px);\n",
       "  clip: rect(1px, 1px, 1px, 1px);\n",
       "  height: 1px;\n",
       "  margin: -1px;\n",
       "  overflow: hidden;\n",
       "  padding: 0;\n",
       "  position: absolute;\n",
       "  width: 1px;\n",
       "}\n",
       "\n",
       "#sk-container-id-1 div.sk-dashed-wrapped {\n",
       "  border: 1px dashed var(--sklearn-color-line);\n",
       "  margin: 0 0.4em 0.5em 0.4em;\n",
       "  box-sizing: border-box;\n",
       "  padding-bottom: 0.4em;\n",
       "  background-color: var(--sklearn-color-background);\n",
       "}\n",
       "\n",
       "#sk-container-id-1 div.sk-container {\n",
       "  /* jupyter's `normalize.less` sets `[hidden] { display: none; }`\n",
       "     but bootstrap.min.css set `[hidden] { display: none !important; }`\n",
       "     so we also need the `!important` here to be able to override the\n",
       "     default hidden behavior on the sphinx rendered scikit-learn.org.\n",
       "     See: https://github.com/scikit-learn/scikit-learn/issues/21755 */\n",
       "  display: inline-block !important;\n",
       "  position: relative;\n",
       "}\n",
       "\n",
       "#sk-container-id-1 div.sk-text-repr-fallback {\n",
       "  display: none;\n",
       "}\n",
       "\n",
       "div.sk-parallel-item,\n",
       "div.sk-serial,\n",
       "div.sk-item {\n",
       "  /* draw centered vertical line to link estimators */\n",
       "  background-image: linear-gradient(var(--sklearn-color-text-on-default-background), var(--sklearn-color-text-on-default-background));\n",
       "  background-size: 2px 100%;\n",
       "  background-repeat: no-repeat;\n",
       "  background-position: center center;\n",
       "}\n",
       "\n",
       "/* Parallel-specific style estimator block */\n",
       "\n",
       "#sk-container-id-1 div.sk-parallel-item::after {\n",
       "  content: \"\";\n",
       "  width: 100%;\n",
       "  border-bottom: 2px solid var(--sklearn-color-text-on-default-background);\n",
       "  flex-grow: 1;\n",
       "}\n",
       "\n",
       "#sk-container-id-1 div.sk-parallel {\n",
       "  display: flex;\n",
       "  align-items: stretch;\n",
       "  justify-content: center;\n",
       "  background-color: var(--sklearn-color-background);\n",
       "  position: relative;\n",
       "}\n",
       "\n",
       "#sk-container-id-1 div.sk-parallel-item {\n",
       "  display: flex;\n",
       "  flex-direction: column;\n",
       "}\n",
       "\n",
       "#sk-container-id-1 div.sk-parallel-item:first-child::after {\n",
       "  align-self: flex-end;\n",
       "  width: 50%;\n",
       "}\n",
       "\n",
       "#sk-container-id-1 div.sk-parallel-item:last-child::after {\n",
       "  align-self: flex-start;\n",
       "  width: 50%;\n",
       "}\n",
       "\n",
       "#sk-container-id-1 div.sk-parallel-item:only-child::after {\n",
       "  width: 0;\n",
       "}\n",
       "\n",
       "/* Serial-specific style estimator block */\n",
       "\n",
       "#sk-container-id-1 div.sk-serial {\n",
       "  display: flex;\n",
       "  flex-direction: column;\n",
       "  align-items: center;\n",
       "  background-color: var(--sklearn-color-background);\n",
       "  padding-right: 1em;\n",
       "  padding-left: 1em;\n",
       "}\n",
       "\n",
       "\n",
       "/* Toggleable style: style used for estimator/Pipeline/ColumnTransformer box that is\n",
       "clickable and can be expanded/collapsed.\n",
       "- Pipeline and ColumnTransformer use this feature and define the default style\n",
       "- Estimators will overwrite some part of the style using the `sk-estimator` class\n",
       "*/\n",
       "\n",
       "/* Pipeline and ColumnTransformer style (default) */\n",
       "\n",
       "#sk-container-id-1 div.sk-toggleable {\n",
       "  /* Default theme specific background. It is overwritten whether we have a\n",
       "  specific estimator or a Pipeline/ColumnTransformer */\n",
       "  background-color: var(--sklearn-color-background);\n",
       "}\n",
       "\n",
       "/* Toggleable label */\n",
       "#sk-container-id-1 label.sk-toggleable__label {\n",
       "  cursor: pointer;\n",
       "  display: block;\n",
       "  width: 100%;\n",
       "  margin-bottom: 0;\n",
       "  padding: 0.5em;\n",
       "  box-sizing: border-box;\n",
       "  text-align: center;\n",
       "}\n",
       "\n",
       "#sk-container-id-1 label.sk-toggleable__label-arrow:before {\n",
       "  /* Arrow on the left of the label */\n",
       "  content: \"▸\";\n",
       "  float: left;\n",
       "  margin-right: 0.25em;\n",
       "  color: var(--sklearn-color-icon);\n",
       "}\n",
       "\n",
       "#sk-container-id-1 label.sk-toggleable__label-arrow:hover:before {\n",
       "  color: var(--sklearn-color-text);\n",
       "}\n",
       "\n",
       "/* Toggleable content - dropdown */\n",
       "\n",
       "#sk-container-id-1 div.sk-toggleable__content {\n",
       "  max-height: 0;\n",
       "  max-width: 0;\n",
       "  overflow: hidden;\n",
       "  text-align: left;\n",
       "  /* unfitted */\n",
       "  background-color: var(--sklearn-color-unfitted-level-0);\n",
       "}\n",
       "\n",
       "#sk-container-id-1 div.sk-toggleable__content.fitted {\n",
       "  /* fitted */\n",
       "  background-color: var(--sklearn-color-fitted-level-0);\n",
       "}\n",
       "\n",
       "#sk-container-id-1 div.sk-toggleable__content pre {\n",
       "  margin: 0.2em;\n",
       "  border-radius: 0.25em;\n",
       "  color: var(--sklearn-color-text);\n",
       "  /* unfitted */\n",
       "  background-color: var(--sklearn-color-unfitted-level-0);\n",
       "}\n",
       "\n",
       "#sk-container-id-1 div.sk-toggleable__content.fitted pre {\n",
       "  /* unfitted */\n",
       "  background-color: var(--sklearn-color-fitted-level-0);\n",
       "}\n",
       "\n",
       "#sk-container-id-1 input.sk-toggleable__control:checked~div.sk-toggleable__content {\n",
       "  /* Expand drop-down */\n",
       "  max-height: 200px;\n",
       "  max-width: 100%;\n",
       "  overflow: auto;\n",
       "}\n",
       "\n",
       "#sk-container-id-1 input.sk-toggleable__control:checked~label.sk-toggleable__label-arrow:before {\n",
       "  content: \"▾\";\n",
       "}\n",
       "\n",
       "/* Pipeline/ColumnTransformer-specific style */\n",
       "\n",
       "#sk-container-id-1 div.sk-label input.sk-toggleable__control:checked~label.sk-toggleable__label {\n",
       "  color: var(--sklearn-color-text);\n",
       "  background-color: var(--sklearn-color-unfitted-level-2);\n",
       "}\n",
       "\n",
       "#sk-container-id-1 div.sk-label.fitted input.sk-toggleable__control:checked~label.sk-toggleable__label {\n",
       "  background-color: var(--sklearn-color-fitted-level-2);\n",
       "}\n",
       "\n",
       "/* Estimator-specific style */\n",
       "\n",
       "/* Colorize estimator box */\n",
       "#sk-container-id-1 div.sk-estimator input.sk-toggleable__control:checked~label.sk-toggleable__label {\n",
       "  /* unfitted */\n",
       "  background-color: var(--sklearn-color-unfitted-level-2);\n",
       "}\n",
       "\n",
       "#sk-container-id-1 div.sk-estimator.fitted input.sk-toggleable__control:checked~label.sk-toggleable__label {\n",
       "  /* fitted */\n",
       "  background-color: var(--sklearn-color-fitted-level-2);\n",
       "}\n",
       "\n",
       "#sk-container-id-1 div.sk-label label.sk-toggleable__label,\n",
       "#sk-container-id-1 div.sk-label label {\n",
       "  /* The background is the default theme color */\n",
       "  color: var(--sklearn-color-text-on-default-background);\n",
       "}\n",
       "\n",
       "/* On hover, darken the color of the background */\n",
       "#sk-container-id-1 div.sk-label:hover label.sk-toggleable__label {\n",
       "  color: var(--sklearn-color-text);\n",
       "  background-color: var(--sklearn-color-unfitted-level-2);\n",
       "}\n",
       "\n",
       "/* Label box, darken color on hover, fitted */\n",
       "#sk-container-id-1 div.sk-label.fitted:hover label.sk-toggleable__label.fitted {\n",
       "  color: var(--sklearn-color-text);\n",
       "  background-color: var(--sklearn-color-fitted-level-2);\n",
       "}\n",
       "\n",
       "/* Estimator label */\n",
       "\n",
       "#sk-container-id-1 div.sk-label label {\n",
       "  font-family: monospace;\n",
       "  font-weight: bold;\n",
       "  display: inline-block;\n",
       "  line-height: 1.2em;\n",
       "}\n",
       "\n",
       "#sk-container-id-1 div.sk-label-container {\n",
       "  text-align: center;\n",
       "}\n",
       "\n",
       "/* Estimator-specific */\n",
       "#sk-container-id-1 div.sk-estimator {\n",
       "  font-family: monospace;\n",
       "  border: 1px dotted var(--sklearn-color-border-box);\n",
       "  border-radius: 0.25em;\n",
       "  box-sizing: border-box;\n",
       "  margin-bottom: 0.5em;\n",
       "  /* unfitted */\n",
       "  background-color: var(--sklearn-color-unfitted-level-0);\n",
       "}\n",
       "\n",
       "#sk-container-id-1 div.sk-estimator.fitted {\n",
       "  /* fitted */\n",
       "  background-color: var(--sklearn-color-fitted-level-0);\n",
       "}\n",
       "\n",
       "/* on hover */\n",
       "#sk-container-id-1 div.sk-estimator:hover {\n",
       "  /* unfitted */\n",
       "  background-color: var(--sklearn-color-unfitted-level-2);\n",
       "}\n",
       "\n",
       "#sk-container-id-1 div.sk-estimator.fitted:hover {\n",
       "  /* fitted */\n",
       "  background-color: var(--sklearn-color-fitted-level-2);\n",
       "}\n",
       "\n",
       "/* Specification for estimator info (e.g. \"i\" and \"?\") */\n",
       "\n",
       "/* Common style for \"i\" and \"?\" */\n",
       "\n",
       ".sk-estimator-doc-link,\n",
       "a:link.sk-estimator-doc-link,\n",
       "a:visited.sk-estimator-doc-link {\n",
       "  float: right;\n",
       "  font-size: smaller;\n",
       "  line-height: 1em;\n",
       "  font-family: monospace;\n",
       "  background-color: var(--sklearn-color-background);\n",
       "  border-radius: 1em;\n",
       "  height: 1em;\n",
       "  width: 1em;\n",
       "  text-decoration: none !important;\n",
       "  margin-left: 1ex;\n",
       "  /* unfitted */\n",
       "  border: var(--sklearn-color-unfitted-level-1) 1pt solid;\n",
       "  color: var(--sklearn-color-unfitted-level-1);\n",
       "}\n",
       "\n",
       ".sk-estimator-doc-link.fitted,\n",
       "a:link.sk-estimator-doc-link.fitted,\n",
       "a:visited.sk-estimator-doc-link.fitted {\n",
       "  /* fitted */\n",
       "  border: var(--sklearn-color-fitted-level-1) 1pt solid;\n",
       "  color: var(--sklearn-color-fitted-level-1);\n",
       "}\n",
       "\n",
       "/* On hover */\n",
       "div.sk-estimator:hover .sk-estimator-doc-link:hover,\n",
       ".sk-estimator-doc-link:hover,\n",
       "div.sk-label-container:hover .sk-estimator-doc-link:hover,\n",
       ".sk-estimator-doc-link:hover {\n",
       "  /* unfitted */\n",
       "  background-color: var(--sklearn-color-unfitted-level-3);\n",
       "  color: var(--sklearn-color-background);\n",
       "  text-decoration: none;\n",
       "}\n",
       "\n",
       "div.sk-estimator.fitted:hover .sk-estimator-doc-link.fitted:hover,\n",
       ".sk-estimator-doc-link.fitted:hover,\n",
       "div.sk-label-container:hover .sk-estimator-doc-link.fitted:hover,\n",
       ".sk-estimator-doc-link.fitted:hover {\n",
       "  /* fitted */\n",
       "  background-color: var(--sklearn-color-fitted-level-3);\n",
       "  color: var(--sklearn-color-background);\n",
       "  text-decoration: none;\n",
       "}\n",
       "\n",
       "/* Span, style for the box shown on hovering the info icon */\n",
       ".sk-estimator-doc-link span {\n",
       "  display: none;\n",
       "  z-index: 9999;\n",
       "  position: relative;\n",
       "  font-weight: normal;\n",
       "  right: .2ex;\n",
       "  padding: .5ex;\n",
       "  margin: .5ex;\n",
       "  width: min-content;\n",
       "  min-width: 20ex;\n",
       "  max-width: 50ex;\n",
       "  color: var(--sklearn-color-text);\n",
       "  box-shadow: 2pt 2pt 4pt #999;\n",
       "  /* unfitted */\n",
       "  background: var(--sklearn-color-unfitted-level-0);\n",
       "  border: .5pt solid var(--sklearn-color-unfitted-level-3);\n",
       "}\n",
       "\n",
       ".sk-estimator-doc-link.fitted span {\n",
       "  /* fitted */\n",
       "  background: var(--sklearn-color-fitted-level-0);\n",
       "  border: var(--sklearn-color-fitted-level-3);\n",
       "}\n",
       "\n",
       ".sk-estimator-doc-link:hover span {\n",
       "  display: block;\n",
       "}\n",
       "\n",
       "/* \"?\"-specific style due to the `<a>` HTML tag */\n",
       "\n",
       "#sk-container-id-1 a.estimator_doc_link {\n",
       "  float: right;\n",
       "  font-size: 1rem;\n",
       "  line-height: 1em;\n",
       "  font-family: monospace;\n",
       "  background-color: var(--sklearn-color-background);\n",
       "  border-radius: 1rem;\n",
       "  height: 1rem;\n",
       "  width: 1rem;\n",
       "  text-decoration: none;\n",
       "  /* unfitted */\n",
       "  color: var(--sklearn-color-unfitted-level-1);\n",
       "  border: var(--sklearn-color-unfitted-level-1) 1pt solid;\n",
       "}\n",
       "\n",
       "#sk-container-id-1 a.estimator_doc_link.fitted {\n",
       "  /* fitted */\n",
       "  border: var(--sklearn-color-fitted-level-1) 1pt solid;\n",
       "  color: var(--sklearn-color-fitted-level-1);\n",
       "}\n",
       "\n",
       "/* On hover */\n",
       "#sk-container-id-1 a.estimator_doc_link:hover {\n",
       "  /* unfitted */\n",
       "  background-color: var(--sklearn-color-unfitted-level-3);\n",
       "  color: var(--sklearn-color-background);\n",
       "  text-decoration: none;\n",
       "}\n",
       "\n",
       "#sk-container-id-1 a.estimator_doc_link.fitted:hover {\n",
       "  /* fitted */\n",
       "  background-color: var(--sklearn-color-fitted-level-3);\n",
       "}\n",
       "</style><div id=\"sk-container-id-1\" class=\"sk-top-container\"><div class=\"sk-text-repr-fallback\"><pre>MinMaxScaler()</pre><b>In a Jupyter environment, please rerun this cell to show the HTML representation or trust the notebook. <br />On GitHub, the HTML representation is unable to render, please try loading this page with nbviewer.org.</b></div><div class=\"sk-container\" hidden><div class=\"sk-item\"><div class=\"sk-estimator fitted sk-toggleable\"><input class=\"sk-toggleable__control sk-hidden--visually\" id=\"sk-estimator-id-1\" type=\"checkbox\" checked><label for=\"sk-estimator-id-1\" class=\"sk-toggleable__label fitted sk-toggleable__label-arrow fitted\">&nbsp;&nbsp;MinMaxScaler<a class=\"sk-estimator-doc-link fitted\" rel=\"noreferrer\" target=\"_blank\" href=\"https://scikit-learn.org/1.5/modules/generated/sklearn.preprocessing.MinMaxScaler.html\">?<span>Documentation for MinMaxScaler</span></a><span class=\"sk-estimator-doc-link fitted\">i<span>Fitted</span></span></label><div class=\"sk-toggleable__content fitted\"><pre>MinMaxScaler()</pre></div> </div></div></div></div>"
      ],
      "text/plain": [
       "MinMaxScaler()"
      ]
     },
     "execution_count": 16,
     "metadata": {},
     "output_type": "execute_result"
    }
   ],
   "source": [
    "scaler_object.fit(X_train)"
   ]
  },
  {
   "cell_type": "markdown",
   "id": "e46b5067-a3a4-4342-8d8a-dde0c452619b",
   "metadata": {},
   "source": [
    "Now the data has been converted to range from (0 to 1)"
   ]
  },
  {
   "cell_type": "code",
   "execution_count": 17,
   "id": "c2d9ddf0-6cd3-4a59-8ae6-d7966d5ca9da",
   "metadata": {},
   "outputs": [],
   "source": [
    "scaled_X_train = scaler_object.transform(X_train)"
   ]
  },
  {
   "cell_type": "code",
   "execution_count": 18,
   "id": "c048f06d-5087-4cd2-8da0-4e2a31cf80c3",
   "metadata": {},
   "outputs": [],
   "source": [
    "scaled_X_test = scaler_object.transform(X_test)"
   ]
  },
  {
   "cell_type": "code",
   "execution_count": 19,
   "id": "1ea829bd-f5ae-478c-9fed-aa70fe97f1c4",
   "metadata": {},
   "outputs": [
    {
     "data": {
      "text/plain": [
       "1.02679563427227"
      ]
     },
     "execution_count": 19,
     "metadata": {},
     "output_type": "execute_result"
    }
   ],
   "source": [
    "scaled_X_test.max()"
   ]
  },
  {
   "cell_type": "markdown",
   "id": "57e8fedb-5230-4853-a83f-bbdd11fc1eac",
   "metadata": {},
   "source": [
    "### Step5 : Making Model"
   ]
  },
  {
   "cell_type": "code",
   "execution_count": 20,
   "id": "d21b55ad-7f6a-44a7-8b5f-24411ec0d503",
   "metadata": {},
   "outputs": [],
   "source": [
    "from keras.models import Sequential\n",
    "from keras.layers import Dense"
   ]
  },
  {
   "cell_type": "code",
   "execution_count": 21,
   "id": "d9e2c5a1-741b-4da8-b797-c3ea4d1a8c01",
   "metadata": {},
   "outputs": [],
   "source": [
    "model = Sequential()"
   ]
  },
  {
   "cell_type": "code",
   "execution_count": 22,
   "id": "adebb6bd-6a68-4ed2-ad60-861a2d242af0",
   "metadata": {},
   "outputs": [
    {
     "name": "stderr",
     "output_type": "stream",
     "text": [
      "C:\\Users\\vij15\\OneDrive\\Documents\\GitHub\\opencvenv\\Lib\\site-packages\\keras\\src\\layers\\core\\dense.py:87: UserWarning: Do not pass an `input_shape`/`input_dim` argument to a layer. When using Sequential models, prefer using an `Input(shape)` object as the first layer in the model instead.\n",
      "  super().__init__(activity_regularizer=activity_regularizer, **kwargs)\n"
     ]
    }
   ],
   "source": [
    "model.add(Dense(4,input_dim=4,activation='relu')) #input layer\n",
    "model.add(Dense(8,activation ='relu'))  #hidden layer\n",
    "model.add(Dense(1,activation='sigmoid'))\n"
   ]
  },
  {
   "cell_type": "code",
   "execution_count": 23,
   "id": "797aa29a-30c1-4a57-8b60-9ed1476cea07",
   "metadata": {},
   "outputs": [],
   "source": [
    "model.compile(loss='binary_crossentropy',optimizer='adam',metrics=['accuracy'])"
   ]
  },
  {
   "cell_type": "markdown",
   "id": "6794d40a-d40e-47df-9724-6e0020ed8573",
   "metadata": {},
   "source": [
    "### Step6: Train the Model"
   ]
  },
  {
   "cell_type": "code",
   "execution_count": 34,
   "id": "cbcc7a56-4b98-4eac-b16b-29a9c9fb6ca0",
   "metadata": {},
   "outputs": [
    {
     "name": "stdout",
     "output_type": "stream",
     "text": [
      "Epoch 1/100\n",
      "29/29 - 0s - 2ms/step - accuracy: 0.9597 - loss: 0.1586\n",
      "Epoch 2/100\n",
      "29/29 - 0s - 2ms/step - accuracy: 0.9608 - loss: 0.1540\n",
      "Epoch 3/100\n",
      "29/29 - 0s - 2ms/step - accuracy: 0.9608 - loss: 0.1501\n",
      "Epoch 4/100\n",
      "29/29 - 0s - 2ms/step - accuracy: 0.9608 - loss: 0.1461\n",
      "Epoch 5/100\n",
      "29/29 - 0s - 2ms/step - accuracy: 0.9641 - loss: 0.1424\n",
      "Epoch 6/100\n",
      "29/29 - 0s - 2ms/step - accuracy: 0.9641 - loss: 0.1387\n",
      "Epoch 7/100\n",
      "29/29 - 0s - 1ms/step - accuracy: 0.9652 - loss: 0.1352\n",
      "Epoch 8/100\n",
      "29/29 - 0s - 1ms/step - accuracy: 0.9652 - loss: 0.1323\n",
      "Epoch 9/100\n",
      "29/29 - 0s - 1ms/step - accuracy: 0.9663 - loss: 0.1292\n",
      "Epoch 10/100\n",
      "29/29 - 0s - 1ms/step - accuracy: 0.9674 - loss: 0.1258\n",
      "Epoch 11/100\n",
      "29/29 - 0s - 1ms/step - accuracy: 0.9663 - loss: 0.1231\n",
      "Epoch 12/100\n",
      "29/29 - 0s - 1ms/step - accuracy: 0.9684 - loss: 0.1201\n",
      "Epoch 13/100\n",
      "29/29 - 0s - 1ms/step - accuracy: 0.9674 - loss: 0.1176\n",
      "Epoch 14/100\n",
      "29/29 - 0s - 1ms/step - accuracy: 0.9728 - loss: 0.1153\n",
      "Epoch 15/100\n",
      "29/29 - 0s - 1ms/step - accuracy: 0.9695 - loss: 0.1122\n",
      "Epoch 16/100\n",
      "29/29 - 0s - 1ms/step - accuracy: 0.9706 - loss: 0.1099\n",
      "Epoch 17/100\n",
      "29/29 - 0s - 1ms/step - accuracy: 0.9695 - loss: 0.1072\n",
      "Epoch 18/100\n",
      "29/29 - 0s - 1ms/step - accuracy: 0.9728 - loss: 0.1059\n",
      "Epoch 19/100\n",
      "29/29 - 0s - 1ms/step - accuracy: 0.9750 - loss: 0.1030\n",
      "Epoch 20/100\n",
      "29/29 - 0s - 1ms/step - accuracy: 0.9717 - loss: 0.1012\n",
      "Epoch 21/100\n",
      "29/29 - 0s - 1ms/step - accuracy: 0.9750 - loss: 0.0984\n",
      "Epoch 22/100\n",
      "29/29 - 0s - 1ms/step - accuracy: 0.9782 - loss: 0.0967\n",
      "Epoch 23/100\n",
      "29/29 - 0s - 2ms/step - accuracy: 0.9761 - loss: 0.0945\n",
      "Epoch 24/100\n",
      "29/29 - 0s - 2ms/step - accuracy: 0.9750 - loss: 0.0930\n",
      "Epoch 25/100\n",
      "29/29 - 0s - 1ms/step - accuracy: 0.9750 - loss: 0.0923\n",
      "Epoch 26/100\n",
      "29/29 - 0s - 1ms/step - accuracy: 0.9804 - loss: 0.0900\n",
      "Epoch 27/100\n",
      "29/29 - 0s - 1ms/step - accuracy: 0.9771 - loss: 0.0876\n",
      "Epoch 28/100\n",
      "29/29 - 0s - 1ms/step - accuracy: 0.9804 - loss: 0.0861\n",
      "Epoch 29/100\n",
      "29/29 - 0s - 1ms/step - accuracy: 0.9815 - loss: 0.0838\n",
      "Epoch 30/100\n",
      "29/29 - 0s - 1ms/step - accuracy: 0.9815 - loss: 0.0826\n",
      "Epoch 31/100\n",
      "29/29 - 0s - 1ms/step - accuracy: 0.9815 - loss: 0.0813\n",
      "Epoch 32/100\n",
      "29/29 - 0s - 1ms/step - accuracy: 0.9815 - loss: 0.0804\n",
      "Epoch 33/100\n",
      "29/29 - 0s - 1ms/step - accuracy: 0.9859 - loss: 0.0784\n",
      "Epoch 34/100\n",
      "29/29 - 0s - 1ms/step - accuracy: 0.9869 - loss: 0.0768\n",
      "Epoch 35/100\n",
      "29/29 - 0s - 1ms/step - accuracy: 0.9848 - loss: 0.0749\n",
      "Epoch 36/100\n",
      "29/29 - 0s - 1ms/step - accuracy: 0.9848 - loss: 0.0744\n",
      "Epoch 37/100\n",
      "29/29 - 0s - 1ms/step - accuracy: 0.9837 - loss: 0.0726\n",
      "Epoch 38/100\n",
      "29/29 - 0s - 1ms/step - accuracy: 0.9859 - loss: 0.0713\n",
      "Epoch 39/100\n",
      "29/29 - 0s - 1ms/step - accuracy: 0.9869 - loss: 0.0702\n",
      "Epoch 40/100\n",
      "29/29 - 0s - 1ms/step - accuracy: 0.9848 - loss: 0.0690\n",
      "Epoch 41/100\n",
      "29/29 - 0s - 1ms/step - accuracy: 0.9880 - loss: 0.0678\n",
      "Epoch 42/100\n",
      "29/29 - 0s - 2ms/step - accuracy: 0.9848 - loss: 0.0664\n",
      "Epoch 43/100\n",
      "29/29 - 0s - 1ms/step - accuracy: 0.9902 - loss: 0.0651\n",
      "Epoch 44/100\n",
      "29/29 - 0s - 1ms/step - accuracy: 0.9902 - loss: 0.0640\n",
      "Epoch 45/100\n",
      "29/29 - 0s - 1ms/step - accuracy: 0.9869 - loss: 0.0631\n",
      "Epoch 46/100\n",
      "29/29 - 0s - 1ms/step - accuracy: 0.9891 - loss: 0.0619\n",
      "Epoch 47/100\n",
      "29/29 - 0s - 1ms/step - accuracy: 0.9891 - loss: 0.0619\n",
      "Epoch 48/100\n",
      "29/29 - 0s - 2ms/step - accuracy: 0.9891 - loss: 0.0604\n",
      "Epoch 49/100\n",
      "29/29 - 0s - 1ms/step - accuracy: 0.9891 - loss: 0.0594\n",
      "Epoch 50/100\n",
      "29/29 - 0s - 2ms/step - accuracy: 0.9880 - loss: 0.0579\n",
      "Epoch 51/100\n",
      "29/29 - 0s - 1ms/step - accuracy: 0.9902 - loss: 0.0577\n",
      "Epoch 52/100\n",
      "29/29 - 0s - 2ms/step - accuracy: 0.9859 - loss: 0.0569\n",
      "Epoch 53/100\n",
      "29/29 - 0s - 1ms/step - accuracy: 0.9902 - loss: 0.0551\n",
      "Epoch 54/100\n",
      "29/29 - 0s - 1ms/step - accuracy: 0.9880 - loss: 0.0546\n",
      "Epoch 55/100\n",
      "29/29 - 0s - 1ms/step - accuracy: 0.9902 - loss: 0.0538\n",
      "Epoch 56/100\n",
      "29/29 - 0s - 1ms/step - accuracy: 0.9848 - loss: 0.0534\n",
      "Epoch 57/100\n",
      "29/29 - 0s - 1ms/step - accuracy: 0.9902 - loss: 0.0521\n",
      "Epoch 58/100\n",
      "29/29 - 0s - 1ms/step - accuracy: 0.9902 - loss: 0.0511\n",
      "Epoch 59/100\n",
      "29/29 - 0s - 2ms/step - accuracy: 0.9891 - loss: 0.0506\n",
      "Epoch 60/100\n",
      "29/29 - 0s - 1ms/step - accuracy: 0.9913 - loss: 0.0498\n",
      "Epoch 61/100\n",
      "29/29 - 0s - 1ms/step - accuracy: 0.9902 - loss: 0.0489\n",
      "Epoch 62/100\n",
      "29/29 - 0s - 1ms/step - accuracy: 0.9913 - loss: 0.0483\n",
      "Epoch 63/100\n",
      "29/29 - 0s - 1ms/step - accuracy: 0.9902 - loss: 0.0479\n",
      "Epoch 64/100\n",
      "29/29 - 0s - 1ms/step - accuracy: 0.9924 - loss: 0.0468\n",
      "Epoch 65/100\n",
      "29/29 - 0s - 1ms/step - accuracy: 0.9913 - loss: 0.0463\n",
      "Epoch 66/100\n",
      "29/29 - 0s - 1ms/step - accuracy: 0.9924 - loss: 0.0459\n",
      "Epoch 67/100\n",
      "29/29 - 0s - 1ms/step - accuracy: 0.9924 - loss: 0.0454\n",
      "Epoch 68/100\n",
      "29/29 - 0s - 1ms/step - accuracy: 0.9924 - loss: 0.0445\n",
      "Epoch 69/100\n",
      "29/29 - 0s - 1ms/step - accuracy: 0.9924 - loss: 0.0439\n",
      "Epoch 70/100\n",
      "29/29 - 0s - 1ms/step - accuracy: 0.9924 - loss: 0.0434\n",
      "Epoch 71/100\n",
      "29/29 - 0s - 1ms/step - accuracy: 0.9924 - loss: 0.0427\n",
      "Epoch 72/100\n",
      "29/29 - 0s - 1ms/step - accuracy: 0.9924 - loss: 0.0418\n",
      "Epoch 73/100\n",
      "29/29 - 0s - 1ms/step - accuracy: 0.9924 - loss: 0.0417\n",
      "Epoch 74/100\n",
      "29/29 - 0s - 2ms/step - accuracy: 0.9935 - loss: 0.0411\n",
      "Epoch 75/100\n",
      "29/29 - 0s - 2ms/step - accuracy: 0.9924 - loss: 0.0400\n",
      "Epoch 76/100\n",
      "29/29 - 0s - 2ms/step - accuracy: 0.9924 - loss: 0.0405\n",
      "Epoch 77/100\n",
      "29/29 - 0s - 1ms/step - accuracy: 0.9935 - loss: 0.0395\n",
      "Epoch 78/100\n",
      "29/29 - 0s - 1ms/step - accuracy: 0.9924 - loss: 0.0391\n",
      "Epoch 79/100\n",
      "29/29 - 0s - 1ms/step - accuracy: 0.9924 - loss: 0.0384\n",
      "Epoch 80/100\n",
      "29/29 - 0s - 1ms/step - accuracy: 0.9946 - loss: 0.0378\n",
      "Epoch 81/100\n",
      "29/29 - 0s - 1ms/step - accuracy: 0.9946 - loss: 0.0377\n",
      "Epoch 82/100\n",
      "29/29 - 0s - 1ms/step - accuracy: 0.9935 - loss: 0.0370\n",
      "Epoch 83/100\n",
      "29/29 - 0s - 1ms/step - accuracy: 0.9946 - loss: 0.0363\n",
      "Epoch 84/100\n",
      "29/29 - 0s - 1ms/step - accuracy: 0.9946 - loss: 0.0361\n",
      "Epoch 85/100\n",
      "29/29 - 0s - 1ms/step - accuracy: 0.9946 - loss: 0.0354\n",
      "Epoch 86/100\n",
      "29/29 - 0s - 1ms/step - accuracy: 0.9956 - loss: 0.0354\n",
      "Epoch 87/100\n",
      "29/29 - 0s - 1ms/step - accuracy: 0.9956 - loss: 0.0347\n",
      "Epoch 88/100\n",
      "29/29 - 0s - 1ms/step - accuracy: 0.9946 - loss: 0.0342\n",
      "Epoch 89/100\n",
      "29/29 - 0s - 1ms/step - accuracy: 0.9956 - loss: 0.0338\n",
      "Epoch 90/100\n",
      "29/29 - 0s - 1ms/step - accuracy: 0.9956 - loss: 0.0333\n",
      "Epoch 91/100\n",
      "29/29 - 0s - 1ms/step - accuracy: 0.9956 - loss: 0.0331\n",
      "Epoch 92/100\n",
      "29/29 - 0s - 1ms/step - accuracy: 0.9956 - loss: 0.0327\n",
      "Epoch 93/100\n",
      "29/29 - 0s - 1ms/step - accuracy: 0.9956 - loss: 0.0326\n",
      "Epoch 94/100\n",
      "29/29 - 0s - 1ms/step - accuracy: 0.9956 - loss: 0.0320\n",
      "Epoch 95/100\n",
      "29/29 - 0s - 1ms/step - accuracy: 0.9956 - loss: 0.0315\n",
      "Epoch 96/100\n",
      "29/29 - 0s - 1ms/step - accuracy: 0.9956 - loss: 0.0315\n",
      "Epoch 97/100\n",
      "29/29 - 0s - 2ms/step - accuracy: 0.9956 - loss: 0.0308\n",
      "Epoch 98/100\n",
      "29/29 - 0s - 2ms/step - accuracy: 0.9956 - loss: 0.0307\n",
      "Epoch 99/100\n",
      "29/29 - 0s - 1ms/step - accuracy: 0.9956 - loss: 0.0303\n",
      "Epoch 100/100\n",
      "29/29 - 0s - 1ms/step - accuracy: 0.9956 - loss: 0.0303\n"
     ]
    },
    {
     "data": {
      "text/plain": [
       "<keras.src.callbacks.history.History at 0x248746a8ef0>"
      ]
     },
     "execution_count": 34,
     "metadata": {},
     "output_type": "execute_result"
    }
   ],
   "source": [
    "model.fit(scaled_X_train,y_train,epochs=100,verbose=2)"
   ]
  },
  {
   "cell_type": "markdown",
   "id": "ad80e932-2273-400c-9b39-96a9d35e5d0c",
   "metadata": {},
   "source": [
    "### Step7: Now Make Predictions"
   ]
  },
  {
   "cell_type": "code",
   "execution_count": 35,
   "id": "ef7a8f00-f04c-4b82-81a7-0c2947e5be2f",
   "metadata": {},
   "outputs": [
    {
     "data": {
      "text/plain": [
       "['loss', 'compile_metrics']"
      ]
     },
     "execution_count": 35,
     "metadata": {},
     "output_type": "execute_result"
    }
   ],
   "source": [
    "model.metrics_names"
   ]
  },
  {
   "cell_type": "code",
   "execution_count": 36,
   "id": "0c5ae5a6-a1aa-4cf5-ba1d-8bf220ed2211",
   "metadata": {},
   "outputs": [],
   "source": [
    "from sklearn.metrics import confusion_matrix,classification_report"
   ]
  },
  {
   "cell_type": "code",
   "execution_count": 37,
   "id": "4e9304e5-f02c-4422-88f5-637f48b8bab2",
   "metadata": {},
   "outputs": [
    {
     "name": "stdout",
     "output_type": "stream",
     "text": [
      "\u001b[1m15/15\u001b[0m \u001b[32m━━━━━━━━━━━━━━━━━━━━\u001b[0m\u001b[37m\u001b[0m \u001b[1m0s\u001b[0m 608us/step\n"
     ]
    }
   ],
   "source": [
    "predictions = (model.predict(scaled_X_test) > 0.5).astype(\"int32\")"
   ]
  },
  {
   "cell_type": "code",
   "execution_count": 38,
   "id": "34dfe892-5399-416f-a0aa-85f095bae861",
   "metadata": {},
   "outputs": [
    {
     "data": {
      "text/plain": [
       "array([[254,   3],\n",
       "       [  2, 194]], dtype=int64)"
      ]
     },
     "execution_count": 38,
     "metadata": {},
     "output_type": "execute_result"
    }
   ],
   "source": [
    "confusion_matrix(y_test,predictions)"
   ]
  },
  {
   "cell_type": "code",
   "execution_count": 39,
   "id": "7239547e-d32d-47a7-880f-df3c56227c58",
   "metadata": {},
   "outputs": [
    {
     "name": "stdout",
     "output_type": "stream",
     "text": [
      "              precision    recall  f1-score   support\n",
      "\n",
      "         0.0       0.99      0.99      0.99       257\n",
      "         1.0       0.98      0.99      0.99       196\n",
      "\n",
      "    accuracy                           0.99       453\n",
      "   macro avg       0.99      0.99      0.99       453\n",
      "weighted avg       0.99      0.99      0.99       453\n",
      "\n"
     ]
    }
   ],
   "source": [
    "print(classification_report(y_test,predictions))"
   ]
  }
 ],
 "metadata": {
  "kernelspec": {
   "display_name": "Python 3 (ipykernel)",
   "language": "python",
   "name": "python3"
  },
  "language_info": {
   "codemirror_mode": {
    "name": "ipython",
    "version": 3
   },
   "file_extension": ".py",
   "mimetype": "text/x-python",
   "name": "python",
   "nbconvert_exporter": "python",
   "pygments_lexer": "ipython3",
   "version": "3.11.6"
  }
 },
 "nbformat": 4,
 "nbformat_minor": 5
}
